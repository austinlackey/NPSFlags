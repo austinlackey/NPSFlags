{
  "nbformat": 4,
  "nbformat_minor": 0,
  "metadata": {
    "colab": {
      "provenance": []
    },
    "kernelspec": {
      "name": "python3",
      "display_name": "Python 3"
    },
    "language_info": {
      "name": "python"
    }
  },
  "cells": [
    {
      "cell_type": "markdown",
      "source": [
        "**NPS Calc Map Flags Tool**\n",
        "\n",
        "To start, perform the following instructions.\n",
        "\n",
        "\n",
        "\n",
        "1.   Run the first code cell below, by clicking the **\"Play Icon\"** in the top left corner of the cell.\n",
        "2.   When prompted to do so, click **\"Choose Files\"** and upload a parks \"XXXX Calc Map.xlsx\" file.\n",
        "3.   Once the cell is finished running, run the second cell bellow, and the associated flag matrix should output.\n",
        "\n",
        "*NOTE:* When running the first cell a second time, disregard the message \"*fatal: destination path....*\"\n",
        "\n"
      ],
      "metadata": {
        "id": "3WVPhGf5ogzf"
      }
    },
    {
      "cell_type": "code",
      "execution_count": null,
      "metadata": {
        "id": "bRZ2Cagzv_Tx"
      },
      "outputs": [],
      "source": [
        "# Initialize and import Calc Map\n",
        "!git clone https://github.com/austinlackey/NPSFlags\n",
        "%cd /content/NPSFlags/\n",
        "!git pull\n",
        "from autoflags import *\n",
        "from google.colab.data_table import DataTable\n",
        "\n",
        "from google.colab import files\n",
        "uploadedFile = files.upload()\n",
        "filename = next(iter(uploadedFile))"
      ]
    },
    {
      "cell_type": "code",
      "source": [
        "# Analyze and show output\n",
        "flagsTable = runFile(filename)\n",
        "def highlight_cells(value):\n",
        "    if value == False:\n",
        "        color = '#FFB3BA' # Red\n",
        "    elif value == True:\n",
        "        color = '#BAFFC9' # Green\n",
        "    else:\n",
        "        color = '' # No Conditional Formatting\n",
        "    return 'background-color: {}'.format(color)\n",
        "\n",
        "flags = flagsTable[0].style.applymap(highlight_cells)\n",
        "errors = flagsTable[1]\n",
        "\n",
        "display(flags)\n",
        "display(errors)"
      ],
      "metadata": {
        "id": "Ocl7ogIdXzDD"
      },
      "execution_count": null,
      "outputs": []
    }
  ]
}